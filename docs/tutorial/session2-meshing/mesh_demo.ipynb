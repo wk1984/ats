{
 "cells": [
  {
   "cell_type": "code",
   "execution_count": 1,
   "metadata": {
    "collapsed": false
   },
   "outputs": [],
   "source": [
    "import sys,os\n",
    "sys.path.append(os.path.join(os.environ['ATS_SRC_DIR'],'tools','meshing_ats'))\n",
    "import meshing_ats\n",
    "\n",
    "import numpy as np"
   ]
  },
  {
   "cell_type": "code",
   "execution_count": 2,
   "metadata": {
    "collapsed": false
   },
   "outputs": [],
   "source": [
    "# create the surface strip mesh\n",
    "xz = np.loadtxt(\"nathan_polygon.txt\")\n",
    "m2 = meshing_ats.Mesh2D.from_Transect(xz[:,0],xz[:,1])\n"
   ]
  },
  {
   "cell_type": "code",
   "execution_count": 4,
   "metadata": {
    "collapsed": false
   },
   "outputs": [
    {
     "name": "stdout",
     "output_type": "stream",
     "text": [
      "\n",
      "You are using exodus.py v 1.04 (beta-cmake), a python wrapper of some of the exodus II library.\n",
      "Copyright (c) 2013, 2014, 2015, 2016 Sandia Corporation. Under the terms of Contract DE-AC04-94AL85000\n",
      "with Sandia Corporation, the U.S. Government retains certain rights in this software.\n",
      "\n",
      "Opening exodus file: nathan_mesh1.exo\n",
      "Closing exodus file: nathan_mesh1.exo\n"
     ]
    }
   ],
   "source": [
    "# build up the layering structure as we extrude in the vertical\n",
    "\n",
    "# first cut: 4 layers, each with uniform dz in the layer\n",
    "layer_types = ['constant','constant','constant','constant']\n",
    "layer_dzs = [0.01, 0.02, 0.05, 1]\n",
    "ncells_per_layer = [2, 9, 40, 49]\n",
    "layer_material_id = [101, 101, 101, 101]\n",
    "\n",
    "m3 = meshing_ats.Mesh3D.extruded_Mesh2D(m2, layer_types, layer_dzs, \n",
    "                                        ncells_per_layer, layer_material_id)\n",
    "m3.write_exodus(\"nathan_mesh1.exo\")\n"
   ]
  },
  {
   "cell_type": "code",
   "execution_count": 3,
   "metadata": {
    "collapsed": false
   },
   "outputs": [
    {
     "name": "stdout",
     "output_type": "stream",
     "text": [
      "\n",
      "You are using exodus.py v 1.04 (beta-cmake), a python wrapper of some of the exodus II library.\n",
      "Copyright (c) 2013, 2014, 2015, 2016 Sandia Corporation. Under the terms of Contract DE-AC04-94AL85000\n",
      "with Sandia Corporation, the U.S. Government retains certain rights in this software.\n",
      "\n",
      "Opening exodus file: nathan_mesh2.exo\n",
      "Closing exodus file: nathan_mesh2.exo\n"
     ]
    }
   ],
   "source": [
    "# make a fancier version:\n",
    "# make the top layer a variable thickness layer\n",
    "def dz_layer1(s):\n",
    "    return (np.sin(2*np.pi * s / 23.0) + 0.02)**2\n",
    "dzs_layer1 = np.array([dz_layer1(x) for x in m2.coords[:,0]])\n",
    "\n",
    "# make the second and third layer constant dz, and make the \n",
    "# fourth layer \"snap\" to the bottom coordinate of z = -45m.  \n",
    "# This results in a flat-bottomed mesh, and the bottom layer \n",
    "# adjusts dz to match that bottom.\n",
    "layer_types = ['node','constant','constant','snapped']\n",
    "layer_data = [dzs_layer1, 1, 2, -45.0]\n",
    "ncells_per_layer = [2, 9, 5, 10]\n",
    "layer_material_ids = [101, 101, 101, 101]\n",
    "\n",
    "m3 = meshing_ats.Mesh3D.extruded_Mesh2D(m2, layer_types, \n",
    "                                        layer_data, \n",
    "                                        ncells_per_layer, \n",
    "                                        layer_material_ids)\n",
    "m3.write_exodus(\"nathan_mesh2.exo\")\n",
    "\n"
   ]
  }
 ],
 "metadata": {
  "kernelspec": {
   "display_name": "Python 2",
   "language": "python",
   "name": "python2"
  },
  "language_info": {
   "codemirror_mode": {
    "name": "ipython",
    "version": 2
   },
   "file_extension": ".py",
   "mimetype": "text/x-python",
   "name": "python",
   "nbconvert_exporter": "python",
   "pygments_lexer": "ipython2",
   "version": "2.7.13"
  }
 },
 "nbformat": 4,
 "nbformat_minor": 0
}
